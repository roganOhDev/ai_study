{
 "cells": [
  {
   "cell_type": "code",
   "execution_count": 2,
   "id": "initial_id",
   "metadata": {
    "collapsed": true,
    "ExecuteTime": {
     "end_time": "2025-02-06T05:34:03.096081Z",
     "start_time": "2025-02-06T05:34:01.656005Z"
    }
   },
   "outputs": [],
   "source": [
    "import torch.nn\n",
    "from torch_geometric.datasets import Planetoid\n",
    "\n",
    "dataset = Planetoid(root='', name='Cora')\n",
    "data = dataset[0]\n"
   ]
  },
  {
   "cell_type": "code",
   "execution_count": 3,
   "outputs": [
    {
     "name": "stdout",
     "output_type": "stream",
     "text": [
      "Dataset: Cora()\n",
      "----------------------------------------\n",
      "Number of graphs: 1\n",
      "Number of nodes: 2708\n",
      "Number of features: 1433\n",
      "Number of classes: {dataset.num_classes}\n",
      "\n",
      "Graph:\n",
      "----------------------------------------\n",
      "Edges are directed: False\n",
      "Graph has isolated nodes: False\n",
      "Graph has loops: False\n"
     ]
    }
   ],
   "source": [
    "print(f'Dataset: {dataset}')\n",
    "print(\"----------------------------------------\")\n",
    "print(f'Number of graphs: {len(dataset)}')\n",
    "print(f'Number of nodes: {data.x.shape[0]}')\n",
    "print(f'Number of features: {dataset.num_features}')\n",
    "print('Number of classes: {dataset.num_classes}')\n",
    "\n",
    "print(f'\\nGraph:')\n",
    "print('----------------------------------------')\n",
    "print(f'Edges are directed: {data.is_directed()}')\n",
    "print(f'Graph has isolated nodes: {data.has_isolated_nodes()}')\n",
    "print(f'Graph has loops: {data.has_self_loops()}')"
   ],
   "metadata": {
    "collapsed": false,
    "ExecuteTime": {
     "end_time": "2025-02-06T05:34:05.441540Z",
     "start_time": "2025-02-06T05:34:05.435431Z"
    }
   },
   "id": "82e36fdac7df4eb0"
  },
  {
   "cell_type": "code",
   "execution_count": 3,
   "outputs": [
    {
     "data": {
      "text/plain": "tensor([[1., 0., 0.,  ..., 0., 0., 0.],\n        [0., 1., 1.,  ..., 0., 0., 0.],\n        [0., 1., 1.,  ..., 0., 0., 0.],\n        ...,\n        [0., 0., 0.,  ..., 1., 0., 0.],\n        [0., 0., 0.,  ..., 0., 1., 1.],\n        [0., 0., 0.,  ..., 0., 1., 1.]])"
     },
     "execution_count": 3,
     "metadata": {},
     "output_type": "execute_result"
    }
   ],
   "source": [
    "from torch_geometric.utils import to_dense_adj\n",
    "\n",
    "adjacency = to_dense_adj(data.edge_index)[0]\n",
    "adjacency += torch.eye(len(adjacency))\n",
    "adjacency"
   ],
   "metadata": {
    "collapsed": false,
    "ExecuteTime": {
     "end_time": "2025-02-06T04:36:10.321895Z",
     "start_time": "2025-02-06T04:36:10.299252Z"
    }
   },
   "id": "c8627869ce3228fa"
  },
  {
   "cell_type": "code",
   "execution_count": 4,
   "outputs": [],
   "source": [
    "from torch.nn import Linear\n",
    "\n",
    "\n",
    "class GNNLayer(torch.nn.Module):\n",
    "    def __init__(self, dim_in, dim_out):\n",
    "        super().__init__()\n",
    "        self.linear = Linear(dim_in, dim_out, bias=False)\n",
    "\n",
    "    def forward(self, x, adjacency):\n",
    "        x = self.linear(x)\n",
    "\n",
    "        x = torch.sparse.mm(adjacency, x)\n",
    "        return x"
   ],
   "metadata": {
    "collapsed": false,
    "ExecuteTime": {
     "end_time": "2025-02-06T04:36:10.326358Z",
     "start_time": "2025-02-06T04:36:10.323934Z"
    }
   },
   "id": "d5049856b3cabbb9"
  },
  {
   "cell_type": "code",
   "execution_count": 5,
   "outputs": [],
   "source": [
    "import torch\n",
    "import torch.nn.functional as F\n",
    "from torchmetrics.functional.classification.accuracy import accuracy\n",
    "\n",
    "\n",
    "class GNN(torch.nn.Module):\n",
    "    def __init__(self, dim_in, dim_h, dim_out):\n",
    "        super().__init__()\n",
    "        self.gnn1 = GNNLayer(dim_in, dim_h)\n",
    "        self.gnn2 = GNNLayer(dim_h, dim_out) # hob 두개\n",
    "\n",
    "    def forward(self, x, adjacency):\n",
    "        h = self.gnn1(x, adjacency)\n",
    "        h = torch.relu(h)\n",
    "        h = self.gnn2(h, adjacency)\n",
    "        return F.log_softmax(h, dim=1)\n",
    "\n",
    "    def fit(self, data, epochs):\n",
    "        criterion = torch.nn.CrossEntropyLoss()\n",
    "        optimizer = torch.optim.Adam(self.parameters(),\n",
    "                                     lr=0.01,\n",
    "                                     weight_decay=5e-4)\n",
    "\n",
    "        self.train()\n",
    "        for epoch in range(epochs + 1):\n",
    "            optimizer.zero_grad()\n",
    "            out = self(data.x, adjacency)\n",
    "            loss = criterion(out[data.train_mask], data.y[data.train_mask])\n",
    "            acc = accuracy(out[data.train_mask].argmax(dim=1), data.y[data.train_mask])\n",
    "            loss.backward()\n",
    "            optimizer.step()\n",
    "\n",
    "            if (epoch % 20 == 0):\n",
    "                val_loss = criterion(out[data.val_mask], data.y[data.val_mask])\n",
    "                val_acc = accuracy(out[data.val_mask].argmax(dim=1),\n",
    "                                   data.y[data.val_mask])\n",
    "                print(f'Epoch {epoch:>3} | Train Loss: {loss:.3f} | Train Acc:'\n",
    "                      f' {acc * 100:>5.2f}% | Val Loss: {val_loss:.2f} | '\n",
    "                      f'Val Acc: {val_acc * 100:.2f}%')\n",
    "\n",
    "    @torch.no_grad\n",
    "    def test(self, data):\n",
    "        self.eval()\n",
    "        out = self(data.x, adjacency)\n",
    "        acc = accuracy(out.argmax(dim=1)[data.test_mask], data.y[data.test_mask])\n",
    "        return acc\n",
    "\n",
    "\n",
    "\n"
   ],
   "metadata": {
    "collapsed": false,
    "ExecuteTime": {
     "end_time": "2025-02-06T04:36:10.735689Z",
     "start_time": "2025-02-06T04:36:10.327111Z"
    }
   },
   "id": "4b31b09c39339f77"
  },
  {
   "cell_type": "code",
   "execution_count": 6,
   "outputs": [],
   "source": [
    "def accuracy(preds, targets):\n",
    "    correct = (preds == targets).sum().item()\n",
    "    total = targets.size(0)\n",
    "    return correct / total"
   ],
   "metadata": {
    "collapsed": false,
    "ExecuteTime": {
     "end_time": "2025-02-06T04:36:10.738138Z",
     "start_time": "2025-02-06T04:36:10.736410Z"
    }
   },
   "id": "40e8ddab17c01b92"
  },
  {
   "cell_type": "code",
   "execution_count": 7,
   "outputs": [],
   "source": [
    "def accuracy(preds, targets):\n",
    "    correct = (preds == targets).sum().item()\n",
    "    total = targets.size(0)\n",
    "    return correct / total"
   ],
   "metadata": {
    "collapsed": false,
    "ExecuteTime": {
     "end_time": "2025-02-06T04:36:10.741101Z",
     "start_time": "2025-02-06T04:36:10.738775Z"
    }
   },
   "id": "b4ad36185511706b"
  },
  {
   "cell_type": "code",
   "execution_count": 8,
   "outputs": [
    {
     "name": "stdout",
     "output_type": "stream",
     "text": [
      "GNN(\n",
      "  (gnn1): GNNLayer(\n",
      "    (linear): Linear(in_features=1433, out_features=16, bias=False)\n",
      "  )\n",
      "  (gnn2): GNNLayer(\n",
      "    (linear): Linear(in_features=16, out_features=7, bias=False)\n",
      "  )\n",
      ")\n",
      "Epoch   0 | Train Loss: 2.079 | Train Acc: 15.71% | Val Loss: 2.12 | Val Acc: 12.00%\n",
      "Epoch  20 | Train Loss: 0.065 | Train Acc: 100.00% | Val Loss: 1.95 | Val Acc: 73.60%\n",
      "Epoch  40 | Train Loss: 0.009 | Train Acc: 100.00% | Val Loss: 2.73 | Val Acc: 74.40%\n",
      "Epoch  60 | Train Loss: 0.003 | Train Acc: 100.00% | Val Loss: 3.04 | Val Acc: 73.20%\n",
      "Epoch  80 | Train Loss: 0.002 | Train Acc: 100.00% | Val Loss: 3.02 | Val Acc: 73.40%\n",
      "Epoch 100 | Train Loss: 0.001 | Train Acc: 100.00% | Val Loss: 2.94 | Val Acc: 73.60%\n",
      "\n",
      "GNN test accuracy: 74.10%\n"
     ]
    }
   ],
   "source": [
    "\n",
    "\n",
    "gnn = GNN(dataset.num_features, 16, dataset.num_classes)\n",
    "print(gnn)\n",
    "\n",
    "# Train\n",
    "gnn.fit(data, epochs=100)\n",
    "\n",
    "# Test\n",
    "acc = gnn.test(data)\n",
    "print(f'\\nGNN test accuracy: {acc * 100:.2f}%')\n"
   ],
   "metadata": {
    "collapsed": false,
    "ExecuteTime": {
     "end_time": "2025-02-06T04:36:12.056865Z",
     "start_time": "2025-02-06T04:36:10.741817Z"
    }
   },
   "id": "9eb87ed3903ba607"
  },
  {
   "cell_type": "code",
   "outputs": [
    {
     "data": {
      "text/plain": "tensor([3, 4, 4,  ..., 3, 3, 3])"
     },
     "execution_count": 4,
     "metadata": {},
     "output_type": "execute_result"
    }
   ],
   "source": [
    "data.y"
   ],
   "metadata": {
    "collapsed": false,
    "ExecuteTime": {
     "end_time": "2025-02-06T05:34:12.835641Z",
     "start_time": "2025-02-06T05:34:12.830821Z"
    }
   },
   "id": "2fd54aa62587d939",
   "execution_count": 4
  },
  {
   "cell_type": "code",
   "execution_count": 9,
   "outputs": [
    {
     "name": "stderr",
     "output_type": "stream",
     "text": [
      "Downloading https://graphmining.ai/datasets/ptg/facebook.npz\n",
      "Processing...\n",
      "Done!\n"
     ]
    },
    {
     "name": "stdout",
     "output_type": "stream",
     "text": [
      "GNN(\n",
      "  (gnn1): GNNLayer(\n",
      "    (linear): Linear(in_features=128, out_features=16, bias=False)\n",
      "  )\n",
      "  (gnn2): GNNLayer(\n",
      "    (linear): Linear(in_features=16, out_features=4, bias=False)\n",
      "  )\n",
      ")\n",
      "Epoch   0 | Train Loss: 28.944 | Train Acc: 37.98% | Val Loss: 25.68 | Val Acc: 37.42%\n",
      "Epoch  20 | Train Loss: 2.671 | Train Acc: 79.89% | Val Loss: 2.05 | Val Acc: 80.04%\n",
      "Epoch  40 | Train Loss: 1.245 | Train Acc: 82.00% | Val Loss: 1.08 | Val Acc: 81.69%\n",
      "Epoch  60 | Train Loss: 0.836 | Train Acc: 83.42% | Val Loss: 0.72 | Val Acc: 83.44%\n",
      "Epoch  80 | Train Loss: 1.228 | Train Acc: 85.08% | Val Loss: 0.79 | Val Acc: 84.84%\n",
      "Epoch 100 | Train Loss: 0.849 | Train Acc: 84.79% | Val Loss: 0.77 | Val Acc: 83.99%\n",
      "\n",
      "GNN test accuracy: 83.60%\n"
     ]
    }
   ],
   "source": [
    "from torch_geometric.datasets import FacebookPagePage\n",
    "\n",
    "dataset = FacebookPagePage(root=\".\")\n",
    "data = dataset[0]\n",
    "data.train_mask = range(18000)\n",
    "data.val_mask = range(18001, 20000)\n",
    "data.test_mask = range(20001, 22470)\n",
    "\n",
    "# Adjacency matrix\n",
    "adjacency = to_dense_adj(data.edge_index)[0]\n",
    "adjacency += torch.eye(len(adjacency))\n",
    "adjacency\n",
    "\n",
    "\n",
    "# GNN\n",
    "gnn = GNN(dataset.num_features, 16, dataset.num_classes)\n",
    "print(gnn)\n",
    "gnn.fit(data, epochs=100)\n",
    "acc = gnn.test(data)\n",
    "print(f'\\nGNN test accuracy: {acc*100:.2f}%')"
   ],
   "metadata": {
    "collapsed": false,
    "ExecuteTime": {
     "end_time": "2025-02-06T04:37:32.103702Z",
     "start_time": "2025-02-06T04:36:12.058013Z"
    }
   },
   "id": "9f76d8049f6bb8f"
  },
  {
   "cell_type": "code",
   "execution_count": null,
   "outputs": [],
   "source": [
    "data."
   ],
   "metadata": {
    "collapsed": false
   },
   "id": "6d950c10dac5a23d"
  }
 ],
 "metadata": {
  "kernelspec": {
   "display_name": "Python 3",
   "language": "python",
   "name": "python3"
  },
  "language_info": {
   "codemirror_mode": {
    "name": "ipython",
    "version": 2
   },
   "file_extension": ".py",
   "mimetype": "text/x-python",
   "name": "python",
   "nbconvert_exporter": "python",
   "pygments_lexer": "ipython2",
   "version": "2.7.6"
  }
 },
 "nbformat": 4,
 "nbformat_minor": 5
}
