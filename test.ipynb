{
 "cells": [
  {
   "cell_type": "code",
   "execution_count": 13,
   "id": "initial_id",
   "metadata": {
    "collapsed": true,
    "ExecuteTime": {
     "end_time": "2025-02-06T06:38:22.743293Z",
     "start_time": "2025-02-06T06:38:22.740017Z"
    }
   },
   "outputs": [],
   "source": [
    "from torch import tensor\n",
    "from torch_geometric.data import Data\n",
    "\n",
    "a = tensor([[0, 1, 2],\n",
    "                          [1, 2, 0]])"
   ]
  },
  {
   "cell_type": "code",
   "outputs": [
    {
     "data": {
      "text/plain": "tensor([[0., 1., 0.],\n        [0., 0., 1.],\n        [1., 0., 0.]])"
     },
     "execution_count": 14,
     "metadata": {},
     "output_type": "execute_result"
    }
   ],
   "source": [
    "data = Data(edge_index=a)\n",
    "from torch_geometric.utils import to_dense_adj\n",
    "ad = to_dense_adj(data.edge_index)[0]\n",
    "ad\n"
   ],
   "metadata": {
    "collapsed": false,
    "ExecuteTime": {
     "end_time": "2025-02-06T06:39:08.387840Z",
     "start_time": "2025-02-06T06:39:08.378402Z"
    }
   },
   "id": "3afe3d057fbc4860",
   "execution_count": 14
  },
  {
   "cell_type": "code",
   "outputs": [],
   "source": [],
   "metadata": {
    "collapsed": false
   },
   "id": "81912ebdb29c7c0c"
  }
 ],
 "metadata": {
  "kernelspec": {
   "display_name": "Python 3",
   "language": "python",
   "name": "python3"
  },
  "language_info": {
   "codemirror_mode": {
    "name": "ipython",
    "version": 2
   },
   "file_extension": ".py",
   "mimetype": "text/x-python",
   "name": "python",
   "nbconvert_exporter": "python",
   "pygments_lexer": "ipython2",
   "version": "2.7.6"
  }
 },
 "nbformat": 4,
 "nbformat_minor": 5
}
